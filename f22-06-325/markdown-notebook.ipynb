{
 "cells": [
  {
   "cell_type": "markdown",
   "id": "ec85cba4",
   "metadata": {},
   "source": [
    "# My simple notebook\n",
    "\n",
    "Some **intro Markdown**!"
   ]
  },
  {
   "cell_type": "code",
   "execution_count": null,
   "id": "03f02611",
   "metadata": {
    "tags": [
     "mytag"
    ]
   },
   "outputs": [],
   "source": [
    "print(\"A python cell\")"
   ]
  },
  {
   "cell_type": "markdown",
   "id": "1cea2d5f",
   "metadata": {},
   "source": [
    "## A section\n",
    "\n",
    "And some more Markdown..."
   ]
  }
 ],
 "metadata": {
  "jupytext": {
   "formats": "ipynb,md:myst"
  },
  "kernelspec": {
   "display_name": "Python 3",
   "language": "python",
   "name": "python3"
  }
 },
 "nbformat": 4,
 "nbformat_minor": 5
}
