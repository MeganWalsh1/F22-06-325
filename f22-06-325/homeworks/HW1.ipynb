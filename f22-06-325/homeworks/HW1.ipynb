{
 "cells": [
  {
   "cell_type": "markdown",
   "id": "362c8ef4-4be9-48c5-aad8-e18f7837709a",
   "metadata": {},
   "source": [
    "# HW1 (due 9/4)"
   ]
  },
  {
   "cell_type": "code",
   "execution_count": null,
   "id": "2d046399-426e-42aa-b11d-48df9b62a3b2",
   "metadata": {},
   "outputs": [],
   "source": []
  }
 ],
 "metadata": {
  "jupytext": {
   "formats": "ipynb,md:myst"
  },
  "kernelspec": {
   "display_name": "Python 3 (ipykernel)",
   "language": "python",
   "name": "python3"
  },
  "language_info": {
   "codemirror_mode": {
    "name": "ipython",
    "version": 3
   },
   "file_extension": ".py",
   "mimetype": "text/x-python",
   "name": "python",
   "nbconvert_exporter": "python",
   "pygments_lexer": "ipython3",
   "version": "3.9.13"
  }
 },
 "nbformat": 4,
 "nbformat_minor": 5
}
