{
 "cells": [
  {
   "cell_type": "markdown",
   "id": "92b01023",
   "metadata": {},
   "source": [
    "![wildfire](./prescribed_burn_public_domain.jpg)\n",
    "\n",
    "# Predicting Wildfire Smoke Composition\n",
    "\n",
    "Prof. Jen is a world-expert at understanding the composition and wildfire smokes. In 2017, she was part of an experimental campaign to map the composition of smokes for controlled wildfire burns for several specific plots of forest at the Blodgett Forest Research Station in Georgetown, CA. \n",
    "\n",
    "Prof. Jen and her collaborators exposed filters to the burns at either ground level or at elevation using remote-controlled drones (each drone had three filters). They then took those filters and used a special analytic technique (GCxGC/MS, which you probably learned about in analytical chem) to identify unique spectral signatures of compounds present in the filters. In a few cases they know the compounds that generate specific signatures, but in many cases it's unclear exactly which compound led to a specific GCxGC/MS signature. \n",
    "\n",
    "`````{note}\n",
    "**Wildfire dataset summary:**\n",
    "* 3 different plots of land (with labels 60, 340, 400) were burned. One unburned plot was also included as a control (0).\n",
    "* Each plot was sampled multiple times at varying times. \n",
    "    * Plots were sampled at the ground level in triplicate (3 filters)\n",
    "    * Plots were sampled with drones at elevation in triplicate (3 filters)\n",
    "* All filters were collected and analyzed with GCxGC/MS. The unique ID of blobs present and the associated concentration on the filter were recorded. \n",
    "* The prevalent plants and foliage present in each plot is also known based on a previous survey of the regions. \n",
    "`````\n",
    "\n",
    "`````{seealso}\n",
    "You can read more about how one of Prof. Jen's collaborators analyzed this data [here](https://www.climatechange.ai/papers/neurips2020/82). That same site includes both a paper and a short video by a collaborator on the specific analysis tried.\n",
    "`````\n",
    "\n",
    "## Suggested challenges\n",
    "\n",
    "* Given a filter and a set of observed blobs, predict whether that filter was exposed at ground level or at elevation (with a drone)\n",
    "* Given the filter of a filter at elevation (drone, easy to collect data), predict the blobs and their concentrations for the ground level measurements (harder to collect data)\n",
    "* [much harder] Given the filter and a set of observed blobs, predict the types of plants present in the plot of land\n",
    "\n",
    "````{note}\n",
    "In each case, you should think critically about the question how you want to set up your train/validation/test splits to simulate the challenge. \n",
    "* What do you expect to be correlated?\n",
    "* How would you know if your model is helpful?\n",
    "* Is there any way to cheat at the task? \n",
    "````\n",
    "\n",
    "## Dataset download/availability instructions\n",
    "https://github.com/ulissigroup/F22-06-325/tree/main/f22-06-325/projects/wildfires/data\n",
    "\n",
    "## Dataset/file format details\n",
    "1. BlodgettCombinedBlobMass.csv is a spreadsheet that gives the electron ionization mass spectrum for each compound detected during the Blodgett field campaign. \n",
    "    * The mass spectrum (each element) is written as mass, signal; mass, signal; etc.\n",
    "    * The row number corresponds to the compound of the same row number found in BlodgettCombinedBlobTable.csv\n",
    "2. BlodgettCombinedBlobTable.cvs contains all compound 2 dimension gas chromatography data from all samples collected from Blodgett 2017. The column headings are:\n",
    "    1. Unused tag\n",
    "    2. BlobID_1\n",
    "    3. Unused Tag\n",
    "    4. 1D retention time (min)\n",
    "    5. 2D retention time (sec)\n",
    "    6. Peak height\n",
    "    7. Peak volume\n",
    "    8. Peak volume divided by nearest internal standard peak volume\n",
    "    9. Calculated d-alkane retention index\n",
    "    10. matched retention index (this number should be super close to the retention index in column 9)\n",
    "    11. Unused tag\n",
    "    12. Unused tag\n",
    "    13. Unused tag\n",
    "    14. BlobID_2\n",
    "    15. Filter number. This is the filter number that can be linked to where and when the sample was collected\n",
    "    16. Unused tag\n",
    "    17. Mass concentration of this compound (ng/m3)\n",
    "    * BlobID_1 and BlobID_2 (column 2 and 14) define the unique ID of a blob that can be tracked across the different burns. In other words, a compound (blob) with an ID of 1,176 is the same compound in filter 201 and filter 202. \n",
    "    * The d-alkane retention index (column 10) and 2nd dimension retention time (column 5) define the unique x,y position the compound sits in the chromatogram. No two compounds will have the same x,y coordinate. \n",
    "    * Mass concentration defines the amount of compound that exists in the smoke. \n",
    "3. Run Log.xlsx details where each filter was collected in Blodgett by GPS location and forest plot that burned. Tab “Flight Log” provides the details of filters collected from the drone. Tab “ground Station” provides details of filters collected at ground level.\n",
    "4. All_Shrubcovony_01_16.xlsx displays the types of shrubs that grew at Blodgett. The sheet of interest is “16” which stands for 2016 when they conducted a plant inventory. Focus on Unit (1st column) 60, 340, and 400 which stand for the plots that we burned at Blodgett. Species column lists the shorthand for the shrub/grass that they observed growing in the plot. BFRSPlantCodes.xlsx translate the shorthand plant code to a real plant.\n",
    "5. `2017 rx burning_topos.pdf` and `BFRSWallMap2017.pdf` Pictures of the units burned.\n",
    "6. `Filters vs forest plot number.xlsx`: A more explicit listing of which forest unit each filter was collected at.\n",
    "\n",
    "## Hints and possible approaches"
   ]
  },
  {
   "cell_type": "markdown",
   "id": "8b0e9e8d-e1be-4609-a496-e7e1e405397d",
   "metadata": {
    "cell_id": "97f6b279d8c147cea2587cdd8b8fe8ce",
    "deepnote_cell_height": 216.796875,
    "deepnote_cell_type": "markdown",
    "tags": []
   },
   "source": [
    "## Example Model\n",
    "\n",
    "### Loading in Data\n",
    "Let's start by uploading the data. We'll start with BlodgettCombinedBlobTable.csv. \n",
    "\n",
    "#### BlodgettCombinedBlobTable.csv"
   ]
  },
  {
   "cell_type": "code",
   "execution_count": null,
   "id": "dcd0eaa8-631c-4d45-9776-56eaebf0f2de",
   "metadata": {
    "cell_id": "43c7a1249fcc4edb878c0d0f8a3ec3d1",
    "deepnote_cell_height": 865.4375,
    "deepnote_cell_type": "code",
    "deepnote_to_be_reexecuted": false,
    "execution_millis": 1081,
    "execution_start": 1663335188724,
    "source_hash": "5317872d",
    "tags": []
   },
   "outputs": [],
   "source": [
    "import pandas as pd\n",
    "\n",
    "# define column names\n",
    "col_names = [\"Unused tags 1\", \"BlobID1\", \"Unused tags 2\", \n",
    "            \"1D Retention Time (min)\", \"2D Retention Time (sec)\", \n",
    "            \"Peak Height\", \"Peak Volume\", \"Peak volume/nearest internal standard peak volume\", \n",
    "            \"Calculated d-alkane retention index\", \"matched retention index\", \n",
    "            \"Unused tags 3\", \"Unused tags 4\", \"Unused tags 5\", \n",
    "            \"BlobID_2\", \"Filter number\", \"Unused tags 6\", \n",
    "            \"Mass concentration of compound (ng/m3)\"]\n",
    "\n",
    "# import csv file\n",
    "df_blobtable = pd.read_csv(\"data/BlodgettCombinedBlobTable.csv\", names=col_names)\n",
    "\n",
    "df_blobtable"
   ]
  },
  {
   "cell_type": "markdown",
   "id": "668a5306-9915-4c99-bfa5-fe3593cece8f",
   "metadata": {
    "cell_id": "886778f90dc24892a37babf5569d51fe",
    "deepnote_cell_height": 74.796875,
    "deepnote_cell_type": "markdown",
    "tags": []
   },
   "source": [
    "We can remove all of the columns with the unused tags and drop the NaN's."
   ]
  },
  {
   "cell_type": "code",
   "execution_count": null,
   "id": "6c389f7a-ff82-4b2f-a193-2445f6848332",
   "metadata": {
    "cell_id": "06c89930d3f04ab4b05da8b424e4adb8",
    "deepnote_cell_height": 261,
    "deepnote_cell_type": "code",
    "deepnote_table_loading": false,
    "deepnote_table_state": {
     "filters": [],
     "pageIndex": 4458,
     "pageSize": 10,
     "sortBy": []
    },
    "deepnote_to_be_reexecuted": false,
    "execution_millis": 10,
    "execution_start": 1663335190815,
    "source_hash": "f277ebbc",
    "tags": []
   },
   "outputs": [],
   "source": [
    "unusedtags = [\"Unused tags 1\", \"Unused tags 2\", \"Unused tags 3\", \n",
    "                \"Unused tags 4\", \"Unused tags 5\", \"Unused tags 6\"]\n",
    "\n",
    "#import numpy as np \n",
    "\n",
    "#df_blobtable.replace(np.inf, np.nan, inplace=True)\n",
    "\n",
    "pd.set_option('use_inf_as_na',True)\n",
    "\n",
    "df_blobtable = df_blobtable.drop(labels=unusedtags, axis=1)\n",
    "df_blobtable = df_blobtable.dropna()"
   ]
  },
  {
   "cell_type": "code",
   "execution_count": null,
   "id": "532ee888-a131-4a88-8415-79f64791ca76",
   "metadata": {
    "cell_id": "0e581776b67543a2944079b8a2e6906b",
    "deepnote_cell_height": 608.4375,
    "deepnote_cell_type": "code",
    "deepnote_table_loading": false,
    "deepnote_table_state": {
     "filters": [],
     "pageIndex": 18,
     "pageSize": 10,
     "sortBy": []
    },
    "deepnote_to_be_reexecuted": false,
    "execution_millis": 130,
    "execution_start": 1663335183694,
    "source_hash": "e7e9b9d1",
    "tags": []
   },
   "outputs": [],
   "source": [
    "df_blobtable"
   ]
  },
  {
   "cell_type": "markdown",
   "id": "91534f6f-1d13-41cc-a195-1f3e9363f16d",
   "metadata": {
    "cell_id": "7cba32a595d64d6480e89e4109a72c54",
    "deepnote_cell_height": 110.796875,
    "deepnote_cell_type": "markdown",
    "tags": []
   },
   "source": [
    "#### All_ShrubCovOnly_01_16.xlsx\n",
    "\n",
    "We can also load in the data from All_ShrubCovOnly_01_16.xlsx to get information about what plants are present at certain sites."
   ]
  },
  {
   "cell_type": "code",
   "execution_count": null,
   "id": "1bc6179f-0a32-49c6-aed3-ca4fd8c542fa",
   "metadata": {
    "cell_id": "5344093c415545ee8916480614c88458",
    "deepnote_cell_height": 649.4375,
    "deepnote_cell_type": "code",
    "deepnote_table_loading": false,
    "deepnote_table_state": {
     "filters": [],
     "pageIndex": 0,
     "pageSize": 10,
     "sortBy": []
    },
    "deepnote_to_be_reexecuted": false,
    "execution_millis": 479,
    "execution_start": 1663335209099,
    "source_hash": "d4bd4cbb",
    "tags": []
   },
   "outputs": [],
   "source": [
    "df_shrub = pd.read_excel(\"data/All_ShrubCovOnly_01_16.xlsx\", sheet_name=\"16\")\n",
    "\n",
    "df_shrub"
   ]
  },
  {
   "cell_type": "markdown",
   "id": "494f5744-8292-4133-abe1-8ed6ff6759f8",
   "metadata": {
    "cell_id": "10f840ac5c0c458e8ac9fca54774eebe",
    "deepnote_cell_height": 110.796875,
    "deepnote_cell_type": "markdown",
    "tags": []
   },
   "source": [
    "#### BFRSPlantCodes.xlsx\n",
    "\n",
    "Now the data from BFRSPlantCodes.xlsx is read in to get information that links the shorthand code name to the real plant name."
   ]
  },
  {
   "cell_type": "code",
   "execution_count": null,
   "id": "bd628672-e301-4692-9272-d2298380f2a1",
   "metadata": {
    "cell_id": "089756cbcc94428db284832a717a0ad8",
    "deepnote_cell_height": 644.4375,
    "deepnote_cell_type": "code",
    "deepnote_to_be_reexecuted": false,
    "execution_millis": 114,
    "execution_start": 1663335211474,
    "source_hash": "cf2da5c7",
    "tags": []
   },
   "outputs": [],
   "source": [
    "df_plantnames = pd.read_excel(\"data/BFRSPlantCodes.xlsx\")\n",
    "\n",
    "df_plantnames"
   ]
  },
  {
   "cell_type": "markdown",
   "id": "b86ab847-1c15-4a84-849f-7a7196842570",
   "metadata": {
    "cell_id": "8718541663b246c3b501f05f15cac257",
    "deepnote_cell_height": 110.796875,
    "deepnote_cell_type": "markdown",
    "tags": []
   },
   "source": [
    "#### Run_Log.xlsx\n",
    "\n",
    "We can also load in the data from Run_Log.xlsx for data collected during the flight and ground collections."
   ]
  },
  {
   "cell_type": "code",
   "execution_count": null,
   "id": "7982acd3-10fd-4c4b-a96b-39786d3651e7",
   "metadata": {
    "cell_id": "6932fa7c283c4b5ca263657f92149bdd",
    "deepnote_cell_height": 649.4375,
    "deepnote_cell_type": "code",
    "deepnote_table_loading": false,
    "deepnote_table_state": {
     "filters": [],
     "pageIndex": 0,
     "pageSize": 10,
     "sortBy": []
    },
    "deepnote_to_be_reexecuted": false,
    "execution_millis": 304,
    "execution_start": 1663335214133,
    "source_hash": "671c102c",
    "tags": []
   },
   "outputs": [],
   "source": [
    "df_filter_flight = pd.read_excel(\"data/Run_Log.xlsx\", sheet_name=\"Flight Log\")\n",
    "\n",
    "df_filter_flight"
   ]
  },
  {
   "cell_type": "code",
   "execution_count": null,
   "id": "dfa70be9-dd72-4fd9-9f08-1c75482b1864",
   "metadata": {
    "cell_id": "b9db03a669514882a58fc223073a65e1",
    "deepnote_cell_height": 649.4375,
    "deepnote_cell_type": "code",
    "deepnote_to_be_reexecuted": false,
    "execution_millis": 1021,
    "execution_start": 1663332330474,
    "source_hash": "8f7d122c",
    "tags": []
   },
   "outputs": [],
   "source": [
    "df_filter_ground = pd.read_excel(\"data/Run_Log.xlsx\", sheet_name=\"Ground Station\")\n",
    "\n",
    "df_filter_ground"
   ]
  },
  {
   "cell_type": "markdown",
   "id": "95e87aca-fd46-4046-beee-c65556dac08a",
   "metadata": {
    "cell_id": "36bdd980d21b4925bc725f039d0e0bfc",
    "deepnote_cell_height": 258.390625,
    "deepnote_cell_type": "markdown",
    "tags": []
   },
   "source": [
    "### Predicting Mass Concentration from BloblID\n",
    "\n",
    "Now that some of the data has been read in, we can start to make our model. For this simple example model, we will try and predict a correlation between the BlobID, or the compound, and the amount of that compound in the smoke, given by the mass concentration. We will use RandomForestRegressor as part of sklearn. \n",
    "\n",
    "We start with splittig our data into a train/test split."
   ]
  },
  {
   "cell_type": "code",
   "execution_count": null,
   "id": "002605cf-3b85-420f-9326-ddd706fe7dd3",
   "metadata": {
    "cell_id": "76e6a9ef6fd64f138b7f4f7e9fed7c0c",
    "deepnote_cell_height": 135,
    "deepnote_cell_type": "code",
    "deepnote_output_heights": [
     20.1875
    ],
    "deepnote_to_be_reexecuted": false,
    "execution_millis": 5,
    "execution_start": 1663335239668,
    "source_hash": "ecc91588",
    "tags": []
   },
   "outputs": [],
   "source": [
    "from sklearn.model_selection import train_test_split\n",
    "\n",
    "X_train, X_test, Y_train, Y_test = train_test_split(df_blobtable[\"BlobID1\"], df_blobtable[\"Mass concentration of compound (ng/m3)\"])"
   ]
  },
  {
   "cell_type": "markdown",
   "id": "9a992afe-38e1-4366-9718-9a6d4529bcbc",
   "metadata": {
    "cell_id": "91f72a25e452461788fa612c7d648bbd",
    "deepnote_cell_height": 74.796875,
    "deepnote_cell_type": "markdown",
    "tags": []
   },
   "source": [
    "We will now fit the correlation between the BlobID and mass flow of that compound in the smoke. We will then test it on the test data."
   ]
  },
  {
   "cell_type": "code",
   "execution_count": null,
   "id": "02d3e3ee-dd1f-4984-93eb-458c766f34c9",
   "metadata": {
    "cell_id": "4c53d8173d284e1b90ae9bfab21f7a09",
    "deepnote_cell_height": 281,
    "deepnote_cell_type": "code",
    "deepnote_output_heights": [
     null,
     59.390625
    ],
    "deepnote_to_be_reexecuted": false,
    "execution_millis": 3277,
    "execution_start": 1663335241993,
    "source_hash": "9d80f09a",
    "tags": []
   },
   "outputs": [],
   "source": [
    "from sklearn.ensemble import RandomForestRegressor\n",
    "\n",
    "model = RandomForestRegressor()\n",
    "model.fit(X_train.values.reshape(-1, 1), Y_train.values.reshape(-1, 1))"
   ]
  },
  {
   "cell_type": "code",
   "execution_count": null,
   "id": "8748fa99-7cc3-48f7-b25b-a2ac20060eab",
   "metadata": {
    "cell_id": "ffcc23cac4a74fe29a194a591b6be87c",
    "deepnote_cell_height": 585.203125,
    "deepnote_cell_type": "code",
    "deepnote_output_heights": [
     362.21875,
     362.21875
    ],
    "deepnote_to_be_reexecuted": false,
    "execution_millis": 686,
    "execution_start": 1663335247600,
    "source_hash": "29791ebd",
    "tags": []
   },
   "outputs": [],
   "source": [
    "import matplotlib.pyplot as plt \n",
    "\n",
    "plt.plot(X_train.values.reshape(-1, 1), Y_train.values.reshape(-1, 1), '.')\n",
    "plt.plot(X_test.values.reshape(-1, 1), Y_test.values.reshape(-1, 1), '.')\n",
    "plt.plot(X_test.values.reshape(-1, 1), model.predict(X_test.values.reshape(-1, 1)), '.')\n",
    "plt.xlabel('BlobID')\n",
    "plt.ylabel('Mass Concentration of Compound in Smoke (ng/m3) ')\n",
    "plt.legend(['Train Data', 'Test Data', 'Prediction']);"
   ]
  },
  {
   "cell_type": "markdown",
   "id": "03d0ccd4-cf67-4fd2-9799-2d8caae833ed",
   "metadata": {
    "cell_id": "39f162a92f674f5db1603ec9cdeb7168",
    "deepnote_cell_height": 245.59375,
    "deepnote_cell_type": "markdown",
    "tags": []
   },
   "source": [
    "This model is not too conclusive about the mass concentration of the compound based on it's BlobID. This could be due to the data being collected at multiple plots and both measured on the ground and in the air. To improve upon this, you can try and see if there is a correlation between the mass concentration of a compound at a certain plot, or the elevation during a burn. \n",
    "\n",
    "There are also several other paths you can take for your project. However, this simple model does show how you can load in the data and start to use it."
   ]
  }
 ],
 "metadata": {
  "jupytext": {
   "cell_metadata_filter": "-all",
   "formats": "ipynb,md:myst",
   "main_language": "python"
  },
  "kernelspec": {
   "display_name": "Python 3 (ipykernel)",
   "language": "python",
   "name": "python3"
  },
  "language_info": {
   "codemirror_mode": {
    "name": "ipython",
    "version": 3
   },
   "file_extension": ".py",
   "mimetype": "text/x-python",
   "name": "python",
   "nbconvert_exporter": "python",
   "pygments_lexer": "ipython3",
   "version": "3.9.13"
  }
 },
 "nbformat": 4,
 "nbformat_minor": 5
}
